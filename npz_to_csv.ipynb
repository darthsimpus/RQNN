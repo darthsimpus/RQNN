{
 "cells": [
  {
   "cell_type": "code",
   "execution_count": 1,
   "metadata": {},
   "outputs": [],
   "source": [
    "import pandas as pd\n",
    "import numpy as np\n",
    "\n",
    "for dataset in ['FashionMNIST_last4','MNIST_last4','KMNIST_4']:  \n",
    "    for noise in ['gauss','rayl']:\n",
    "        for i in [i/100 for i in range(1,10)]+[i/10 for i in range(1,10)]:\n",
    "            # create a dummy array\n",
    "            arr = np.load(f\"./saved_data_{dataset}/{noise}_{i}_42.npz\")['arr_0']\n",
    "\n",
    "            arr2 = []\n",
    "            for iii in range(arr.shape[0]):\n",
    "                arr2.append(arr[iii][0].reshape(784,))\n",
    "\n",
    "            DF = pd.DataFrame(arr2)\n",
    "            for ii in range(784):\n",
    "                DF.rename(columns={ii: f'pixel{ii+1}'}, inplace=True)\n",
    "            arr3 = np.load(f\"./saved_data_{dataset}/test_labels.npz\")['arr_0']\n",
    "            idx = 0 \n",
    "            DF.insert(loc=idx, column='label', value=arr3)\n",
    "            # save the dataframe as a csv file\n",
    "            DF.to_csv(f\"./saved_data_{dataset}/{noise}_{i}_42.csv\")\n",
    "            del DF"
   ]
  },
  {
   "cell_type": "code",
   "execution_count": null,
   "metadata": {},
   "outputs": [],
   "source": [
    "import pandas as pd\n",
    "import numpy as np\n",
    "\n",
    "for dataset in ['FashionMNIST_last4','MNIST_last4','KMNIST_4']:  \n",
    "    for noise in ['snp']:\n",
    "        for i in [i/100 for i in range(1,10)]+[i/10 for i in range(1,6)]:\n",
    "            # create a dummy array\n",
    "            arr = np.load(f\"./saved_data_{dataset}/{noise}_{i}_42.npz\")['arr_0']\n",
    "\n",
    "            # reshape the array\n",
    "            arr2 = []\n",
    "            for iii in range(arr.shape[0]):\n",
    "                arr2.append(arr[iii][0].reshape(784,)*255)\n",
    "            arr2 = np.array(arr2,dtype=int)\n",
    "            # convert array into dataframe\n",
    "            DF = pd.DataFrame(arr2)\n",
    "            for ii in range(784):\n",
    "                DF.rename(columns={ii: f'pixel{ii+1}'}, inplace=True)\n",
    "            arr3 = np.load(f\"./saved_data_{dataset}/test_labels.npz\")['arr_0']\n",
    "            idx = 0 \n",
    "            DF.insert(loc=idx, column='label', value=arr3)\n",
    "            # save the dataframe as a csv file\n",
    "            DF.to_csv(f\"./saved_data_{dataset}/{noise}_{i}_42.csv\")"
   ]
  },
  {
   "cell_type": "code",
   "execution_count": null,
   "metadata": {},
   "outputs": [],
   "source": [
    "import pandas as pd\n",
    "import numpy as np\n",
    "\n",
    "for dataset in ['FashionMNIST_last4','MNIST_last4','KMNIST_4']:  \n",
    "    for noise in ['perlin']:\n",
    "        for i in [1,7,14]:\n",
    "            # create a dummy array\n",
    "            arr = np.load(f\"./saved_data_{dataset}/{noise}_{i}_x_{i}_42.npz\")['arr_0']\n",
    "            # reshape the array\n",
    "            arr2 = []\n",
    "            for iii in range(arr.shape[0]):\n",
    "                arr2.append(arr[iii][0].reshape(784,)*255)\n",
    "            arr2 = np.array(arr2,dtype=int)\n",
    "            # convert array into dataframe\n",
    "            DF = pd.DataFrame(arr2)\n",
    "            for ii in range(784):\n",
    "                DF.rename(columns={ii: f'pixel{ii+1}'}, inplace=True)\n",
    "            arr3 = np.load(f\"./saved_data_{dataset}/test_labels.npz\")['arr_0']\n",
    "            idx = 0 \n",
    "            DF.insert(loc=idx, column='label', value=arr3)\n",
    "            # save the dataframe as a csv file\n",
    "            DF.to_csv(f\"./saved_data_{dataset}/{noise}_{i}_42.csv\")"
   ]
  },
  {
   "cell_type": "code",
   "execution_count": null,
   "metadata": {},
   "outputs": [],
   "source": [
    "import pandas as pd\n",
    "import numpy as np\n",
    "\n",
    "for dataset in ['FashionMNIST_last4','MNIST_last4','KMNIST_4']:  \n",
    "    for noise in ['uniform']:\n",
    "        for i in [i/100 for i in range(1,10)]+[i/10 for i in range(1,10)]:\n",
    "            # create a dummy array\n",
    "            arr = np.load(f\"./saved_data_{dataset}/{noise}_0_{i}_42.npz\")['arr_0']\n",
    "\n",
    "            # reshape the array\n",
    "            arr2 = []\n",
    "            for iii in range(arr.shape[0]):\n",
    "                arr2.append(arr[iii][0].reshape(784,)*255)\n",
    "            arr2 = np.array(arr2,dtype=int)\n",
    "            # convert array into dataframe\n",
    "            DF = pd.DataFrame(arr2)\n",
    "            for ii in range(784):\n",
    "                DF.rename(columns={ii: f'pixel{ii+1}'}, inplace=True)\n",
    "            arr3 = np.load(f\"./saved_data_{dataset}/test_labels.npz\")['arr_0']\n",
    "            idx = 0 \n",
    "            DF.insert(loc=idx, column='label', value=arr3)\n",
    "            # save the dataframe as a csv file\n",
    "            DF.to_csv(f\"./saved_data_{dataset}/{noise}_{i}_42.csv\")"
   ]
  }
 ],
 "metadata": {
  "kernelspec": {
   "display_name": "spikingjelly",
   "language": "python",
   "name": "spikingjelly"
  },
  "language_info": {
   "codemirror_mode": {
    "name": "ipython",
    "version": 3
   },
   "file_extension": ".py",
   "mimetype": "text/x-python",
   "name": "python",
   "nbconvert_exporter": "python",
   "pygments_lexer": "ipython3",
   "version": "3.8.11"
  }
 },
 "nbformat": 4,
 "nbformat_minor": 2
}
