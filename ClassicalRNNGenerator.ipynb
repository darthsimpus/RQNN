{
 "cells": [
  {
   "cell_type": "code",
   "execution_count": null,
   "metadata": {
    "id": "oaYVuKnhWLB9"
   },
   "outputs": [],
   "source": [
    "device = \"cpu\"\n",
    "# device = \"cuda\"\n",
    "import time,os,copy,torch,random_equivalent,torchvision\n",
    "import torch.nn as nn\n",
    "import torch.optim as optim\n",
    "from torch.optim import lr_scheduler\n",
    "from torchvision import datasets, transforms\n",
    "from tqdm import tqdm\n",
    "import pickle\n",
    "# Pennylane\n",
    "import pennylane as qml\n",
    "from pennylane import numpy as np\n",
    "\n",
    "torch.manual_seed(0)\n",
    "np.random.seed(0)\n",
    "\n",
    "# Plotting\n",
    "import matplotlib.pyplot as plt\n",
    "\n",
    "\n",
    "# OpenMP: number of parallel threads.\n",
    "os.environ[\"OMP_NUM_THREADS\"] = \"16\"\n"
   ]
  },
  {
   "cell_type": "code",
   "execution_count": null,
   "metadata": {
    "id": "BBqhpzaiuuWC"
   },
   "outputs": [],
   "source": [
    "class_names = [\n",
    "    \"0\",\n",
    "    \"1\",\n",
    "    \"2\",\n",
    "    \"3\",\n",
    "]\n",
    "num_classes = len(class_names)\n",
    "\n",
    "import idx2numpy \n",
    "import numpy as np \n",
    "arr3 = []\n",
    "arr4 = []\n",
    "#file1 = './MNIST/TorchvisionDatasetWrapper/raw/train-images-idx3-ubyte'\n",
    "#file1 = './HybridQRNN/EMNIST/raw/gzip/emnist-digits-train-images-idx3-ubyte' \n",
    "file1 = './HybridQRNN/KMNIST/raw/k49-train-imgs.npz' \n",
    "#arr = idx2numpy.convert_from_file(file1)\n",
    "arr = np.load(file1)['arr_0']\n",
    "#file2 = './MNIST/TorchvisionDatasetWrapper/raw/train-labels-idx1-ubyte'\n",
    "#file2 = './HybridQRNN/EMNIST/raw/gzip/emnist-digits-train-labels-idx1-ubyte' \n",
    "file2 =  './HybridQRNN/KMNIST/raw/k49-train-labels.npz'\n",
    "arr2 = np.load(file2)['arr_0']\n",
    "\n",
    "for i in range(len(arr)):\n",
    "    if arr2[i] in [0,1,2,3]:\n",
    "        arr3.append(arr[i])\n",
    "        arr4.append(arr2[i])\n"
   ]
  },
  {
   "cell_type": "code",
   "execution_count": null,
   "metadata": {
    "colab": {
     "base_uri": "https://localhost:8080/",
     "height": 34
    },
    "id": "9XrbmsLB_sbt",
    "outputId": "96c4be16-78e8-4afd-c1d1-05096b6deaaf"
   },
   "outputs": [],
   "source": [
    "# repeat the images for n_steps\n",
    "n_steps = 10\n",
    "# train_sequences = np.tile(train_images[:, None], (1, n_steps, 1, 1))\n",
    "# test_sequences = np.tile(test_images[:, None], (1, n_steps, 1, 1))\n",
    "train_images = np.asarray(arr3,dtype=np.float32) / 255.0\n",
    "train_labels = np.asarray(arr4,dtype=np.int64)\n",
    "\n",
    "#train_labels -= 6\n",
    "display(np.shape(train_labels))\n"
   ]
  },
  {
   "cell_type": "code",
   "execution_count": null,
   "metadata": {
    "colab": {
     "base_uri": "https://localhost:8080/",
     "height": 785
    },
    "id": "5iOn-WphsNw8",
    "outputId": "6ef97b44-fcbb-48f5-ae75-ccfad455e1f5"
   },
   "outputs": [],
   "source": [
    "plt.figure(figsize=(10, 10))\n",
    "for i in range(25):\n",
    "    plt.subplot(5, 5, i + 1)\n",
    "    plt.imshow(train_images[i], cmap=plt.cm.binary)\n",
    "    plt.axis(\"off\")\n",
    "    #print(train_labels[i])\n",
    "    plt.title(class_names[train_labels[i]])"
   ]
  },
  {
   "cell_type": "code",
   "execution_count": null,
   "metadata": {
    "colab": {
     "base_uri": "https://localhost:8080/"
    },
    "id": "f-WhMWC7pHOf",
    "outputId": "3074c2aa-adc7-4403-bcc2-d53fec667bcc"
   },
   "outputs": [],
   "source": [
    "# test_sequences = train_sequences[:int(len(train_sequences)*0.3)]\n",
    "# test_labels = train_labels[:int(len(train_labels)*0.3)]\n",
    "# train_sequences = train_sequences[int(len(train_sequences)*0.7):]\n",
    "# train_labels = train_labels[int(len(train_labels)*0.7):]\n",
    "split = np.array_split(train_images,[int(len(train_images)*0.7)])\n",
    "train_sequences = split[0]\n",
    "test_sequences = split[1]\n",
    "print(len(split[0]),len(split[1]))\n",
    "split = np.array_split(train_labels,[int(len(train_labels)*0.7)])\n",
    "train_labels = split[0]\n",
    "test_labels = split[1]\n",
    "print(len(split[0]),len(split[1]))\n",
    "datalength = 5000\n",
    "\n",
    "train_sequences = np.tile(train_sequences[:, None], (1, n_steps, 1, 1))[:datalength]\n",
    "#train_sequences = np.tile(train_sequences[:, None], (1, n_steps, 1, 1))\n",
    "test_sequences = np.tile(test_sequences[:, None], (1, n_steps, 1, 1))\n",
    "train_labels = train_labels[:datalength]\n",
    "test_labels = test_labels\n",
    "\n",
    "print(len(test_labels),len(test_sequences),len(train_labels),len(train_sequences))"
   ]
  },
  {
   "cell_type": "code",
   "execution_count": null,
   "metadata": {
    "colab": {
     "base_uri": "https://localhost:8080/"
    },
    "id": "ET7CZSNnCMeV",
    "outputId": "29cf9172-00c8-425d-c673-9e0ff866e696"
   },
   "outputs": [],
   "source": [
    "def train(input_model, train_x, test_x):\n",
    "    minibatch_size = 32\n",
    "    optimizer = torch.optim.Adam(input_model.parameters())\n",
    " \n",
    "    input_model.train()\n",
    "    for j in range(30):\n",
    "        train_acc = 0\n",
    "        loss_acc = 0\n",
    "\n",
    "        for i in tqdm(range(train_x.shape[0] // minibatch_size)):\n",
    "            input_model.zero_grad()\n",
    " \n",
    "            batch_in = train_x[i * minibatch_size : (i + 1) * minibatch_size]\n",
    "            # flatten images\n",
    "            batch_in = batch_in.reshape((-1,) + train_x.shape[1:-2] + (784,))\n",
    "            batch_label = train_labels[i * minibatch_size : (i + 1) * minibatch_size]\n",
    "            output = input_model(torch.tensor(batch_in))\n",
    " \n",
    "            # compute sparse categorical cross entropy loss\n",
    "            logp = torch.nn.functional.log_softmax(output, dim=-1)\n",
    "            logpy = torch.gather(logp, 1, torch.tensor(batch_label).view(-1, 1))\n",
    "            loss = -logpy.mean()\n",
    "            loss_acc += loss \n",
    " \n",
    "            loss.backward()\n",
    "            optimizer.step()\n",
    " \n",
    "            train_acc += torch.mean(\n",
    "                torch.eq(torch.argmax(output, dim=1), torch.tensor(batch_label)).float()\n",
    "            )\n",
    "        train_acc /= i + 1\n",
    "        #torch.save(model_hybrid,f=f\"./saves_class10/{n_qubits}x{q_depth}_{j}_{train_acc.numpy()}.h5\")  \n",
    "        print(\"Train accuracy (%d): \" % j, train_acc.numpy())\n",
    "        loss_acc /=i + 1\n",
    "        print(\"Loss (%d): \" % j, loss_acc.detach().numpy())\n",
    "\n",
    "    input_model.eval()\n",
    "    test_acc = 0\n",
    "    for i in range(test_x.shape[0] // minibatch_size):\n",
    "        batch_in = test_x[i * minibatch_size : (i + 1) * minibatch_size]\n",
    "        batch_in = batch_in.reshape((-1,) + test_x.shape[1:-2] + (784,))\n",
    "        batch_label = test_labels[i * minibatch_size : (i + 1) * minibatch_size]\n",
    "        output = input_model(torch.tensor(batch_in))\n",
    " \n",
    "        test_acc += torch.mean(\n",
    "            torch.eq(torch.argmax(output, dim=1), torch.tensor(batch_label)).float()\n",
    "        )\n",
    " \n",
    "    test_acc /= i + 1\n",
    " \n",
    "    print(\"Test accuracy:\", test_acc.numpy())"
   ]
  },
  {
   "cell_type": "code",
   "execution_count": null,
   "metadata": {},
   "outputs": [],
   "source": [
    "# random_model = torch.nn.Sequential(\n",
    "#     torch.nn.Linear(784, 128),\n",
    "#     # set spiking_aware_training and a moderate dt\n",
    "#     random_equivalent.Spike(\n",
    "#         torch.nn.ReLU(), dt=0.01, spiking_aware_training=True\n",
    "#     ),\n",
    "#     random_equivalent.TemporalAvgPool(),\n",
    "#     torch.nn.Linear(128, 10),\n",
    "# )\n",
    "\n",
    "# train(random_model, train_sequences, test_sequences)"
   ]
  },
  {
   "cell_type": "code",
   "execution_count": null,
   "metadata": {},
   "outputs": [],
   "source": [
    "import torch\n",
    "import torch.nn as nn\n",
    "import torch.optim as optim\n",
    "from torch.optim import lr_scheduler\n",
    "import torchvision\n",
    "from torchvision import datasets, transforms"
   ]
  },
  {
   "cell_type": "code",
   "execution_count": null,
   "metadata": {
    "scrolled": true
   },
   "outputs": [],
   "source": [
    "# random_model = torch.nn.Sequential(\n",
    "#     torch.nn.Linear(784, 128),\n",
    "#     # wrap ReLU in Spike\n",
    "#     random_equivalent.Spike(torch.nn.ReLU(), spiking_aware_training=True,dt=0.01),\n",
    "#     # use average pooling layer to average spiking output over time\n",
    "#     random_equivalent.TemporalAvgPool(),\n",
    "#     torch.nn.Linear(128, 10),\n",
    "# )\n",
    "# display(random_model)\n",
    "# # train the model, identically to the non-spiking version,\n",
    "# # except using the time sequences as input\n",
    "# #train(random_model, train_sequences, test_sequences)"
   ]
  },
  {
   "cell_type": "code",
   "execution_count": null,
   "metadata": {},
   "outputs": [],
   "source": [
    "# class DressedClassicalNet(nn.Module):\n",
    "#     def __init__(self):\n",
    "#         super().__init__()\n",
    "#         self.pre_net = nn.Linear(128, 6)\n",
    "#         self.mid_net = nn.Linear(6,6)\n",
    "#         self.post_net = nn.Linear(6, 5)\n",
    "\n",
    "#     def forward(self, input_features):\n",
    "#         pre_out = self.pre_net(input_features)\n",
    "#         q_in = torch.tanh(pre_out) * np.pi / 2.0\n",
    "#         mid_out = self.mid_net(q_in)\n",
    "#         return self.post_net(mid_out)"
   ]
  },
  {
   "cell_type": "code",
   "execution_count": null,
   "metadata": {},
   "outputs": [],
   "source": [
    "# random_model = torch.load(\"./HybridQRNN/KMNIST/spikeaware_kmnist.h5\")\n",
    "# random_model = copy.deepcopy(torch.nn.Sequential(*(list(random_model.children())[:-1])))\n",
    "# for param in random_model.parameters():\n",
    "#     param.requires_grad = False\n",
    "\n",
    "# random_model.fc = DressedClassicalNet()\n",
    "# display(random_model)\n",
    "# # # Use CUDA or CPU according to the \"device\" object.\n",
    "# # random_model = random_model.to(device)\n"
   ]
  },
  {
   "cell_type": "code",
   "execution_count": null,
   "metadata": {},
   "outputs": [],
   "source": [
    "random_model = torch.nn.Sequential(\n",
    "    torch.nn.Linear(784, 128),\n",
    "    # set spiking_aware_training and a moderate dt\n",
    "    random_equivalent.Spike(\n",
    "        torch.nn.ReLU(), dt=0.01, spiking_aware_training=True\n",
    "    ),\n",
    "    random_equivalent.TemporalAvgPool(),\n",
    "    torch.nn.Linear(128, 10),\n",
    ")"
   ]
  },
  {
   "cell_type": "code",
   "execution_count": null,
   "metadata": {},
   "outputs": [],
   "source": [
    "train(random_model, train_sequences, test_sequences)"
   ]
  },
  {
   "cell_type": "code",
   "execution_count": null,
   "metadata": {},
   "outputs": [],
   "source": [
    "torch.save(random_model,\"./HybridQRNN/KMNIST/random_kmnist_final.h5\")"
   ]
  },
  {
   "cell_type": "code",
   "execution_count": null,
   "metadata": {},
   "outputs": [],
   "source": [
    "class_names = [\n",
    "    \"Shirt\",\n",
    "    \"Sneaker\",\n",
    "    \"Bag\",\n",
    "    \"Ankle boot\",\n",
    "]\n",
    "num_classes = len(class_names)\n",
    "\n",
    "import idx2numpy \n",
    "import numpy as np \n",
    "arr3 = []\n",
    "arr4 = []\n",
    "file1 = './train-images-idx3-ubyte' \n",
    "arr = idx2numpy.convert_from_file(file1)\n",
    "file2 = './train-labels-idx1-ubyte' \n",
    "arr2 = idx2numpy.convert_from_file(file2)\n",
    "for i in range(len(arr)):\n",
    "    if arr2[i] in [6,7,8,9]:\n",
    "        arr3.append(arr[i])\n",
    "        arr4.append(arr2[i])\n"
   ]
  },
  {
   "cell_type": "code",
   "execution_count": null,
   "metadata": {},
   "outputs": [],
   "source": [
    "n_steps = 10\n",
    "train_images = np.asarray(arr3,dtype=np.float32) / 255.0\n",
    "train_labels = np.asarray(arr4,dtype=np.int64)\n",
    "train_labels -= 6\n",
    "display(train_labels)\n"
   ]
  },
  {
   "cell_type": "code",
   "execution_count": null,
   "metadata": {},
   "outputs": [],
   "source": [
    "plt.figure(figsize=(10, 10))\n",
    "for i in range(25):\n",
    "    plt.subplot(5, 5, i + 1)\n",
    "    plt.imshow(train_images[i], cmap=plt.cm.binary)\n",
    "    plt.axis(\"off\")\n",
    "    plt.title(class_names[train_labels[i]])"
   ]
  },
  {
   "cell_type": "code",
   "execution_count": null,
   "metadata": {},
   "outputs": [],
   "source": [
    "# test_sequences = train_sequences[:int(len(train_sequences)*0.3)]\n",
    "# test_labels = train_labels[:int(len(train_labels)*0.3)]\n",
    "# train_sequences = train_sequences[int(len(train_sequences)*0.7):]\n",
    "# train_labels = train_labels[int(len(train_labels)*0.7):]\n",
    "split = np.array_split(train_images,[int(len(train_images)*0.7)])\n",
    "train_sequences = split[0]\n",
    "test_sequences = split[1]\n",
    "print(len(split[0]),len(split[1]))\n",
    "split = np.array_split(train_labels,[int(len(train_labels)*0.7)])\n",
    "train_labels = split[0]\n",
    "test_labels = split[1]\n",
    "print(len(split[0]),len(split[1]))\n",
    "datalength = 5000\n",
    "\n",
    "train_sequences = np.tile(train_sequences[:, None], (1, n_steps, 1, 1))[:datalength]\n",
    "test_sequences = np.tile(test_sequences[:, None], (1, n_steps, 1, 1))\n",
    "train_labels = train_labels[:datalength]\n",
    "test_labels = test_labels\n",
    "\n",
    "print(len(test_labels),len(test_sequences),len(train_labels),len(train_sequences))\n"
   ]
  },
  {
   "cell_type": "code",
   "execution_count": null,
   "metadata": {},
   "outputs": [],
   "source": [
    "def test(input_model, test_x):\n",
    "    minibatch_size = 32\n",
    "    optimizer = torch.optim.Adam(input_model.parameters())\n",
    "\n",
    "    input_model.eval()\n",
    "    test_acc = 0\n",
    "    for i in range(test_x.shape[0] // minibatch_size):\n",
    "        batch_in = test_x[i * minibatch_size : (i + 1) * minibatch_size]\n",
    "        batch_in = batch_in.reshape((-1,) + test_x.shape[1:-2] + (784,))\n",
    "        batch_label = test_labels[i * minibatch_size : (i + 1) * minibatch_size]\n",
    "        output = input_model(torch.tensor(batch_in))\n",
    "\n",
    "        test_acc += torch.mean(\n",
    "            torch.eq(torch.argmax(output, dim=1), torch.tensor(batch_label)).float()\n",
    "        )\n",
    "\n",
    "    test_acc /= i + 1\n",
    "\n",
    "    print(\"Test accuracy:\", test_acc.numpy())"
   ]
  },
  {
   "cell_type": "code",
   "execution_count": null,
   "metadata": {},
   "outputs": [],
   "source": [
    "model_delta = torch.load(\"random_model_final_4_class\")"
   ]
  },
  {
   "cell_type": "code",
   "execution_count": null,
   "metadata": {},
   "outputs": [],
   "source": [
    "test(model_delta,test_sequences)"
   ]
  },
  {
   "cell_type": "code",
   "execution_count": null,
   "metadata": {},
   "outputs": [],
   "source": [
    "torch.save(random_model,\"./MNIST/hybrid_classical_1.h5\")"
   ]
  },
  {
   "cell_type": "code",
   "execution_count": null,
   "metadata": {
    "id": "VNDrzJlUTbv1"
   },
   "outputs": [],
   "source": [
    "random_model = torch.load(\"./hybrid_classical.h5\")"
   ]
  },
  {
   "cell_type": "code",
   "execution_count": null,
   "metadata": {
    "colab": {
     "base_uri": "https://localhost:8080/",
     "height": 164
    },
    "id": "fok2C-ecl4pV",
    "outputId": "1519f397-c33a-42d5-ebbd-e1d33edd1e91"
   },
   "outputs": [],
   "source": [
    "display(random_model)"
   ]
  },
  {
   "cell_type": "code",
   "execution_count": null,
   "metadata": {
    "id": "THJBENVKRYSJ"
   },
   "outputs": [],
   "source": [
    "n_qubits = 6                # Number of qubits\n",
    "q_depth = 2                 # Depth of the quantum circuit (number of variational layers)\n",
    "q_delta = 0.01              # Initial spread of random quantum weights"
   ]
  },
  {
   "cell_type": "code",
   "execution_count": null,
   "metadata": {
    "id": "XYFDgRZ3YNcv"
   },
   "outputs": [],
   "source": [
    "def H_layer(nqubits):\n",
    "    for idx in range(nqubits):\n",
    "        qml.Hadamard(wires=idx)\n",
    "\n",
    "def RY_layer(w):\n",
    "    for idx, element in enumerate(w):\n",
    "        qml.RY(element, wires=idx)\n",
    "\n",
    "def entangling_layer(nqubits):\n",
    "    for i in range(0, nqubits - 1, 2):  \n",
    "        qml.CNOT(wires=[i, i + 1])\n",
    "    for i in range(1, nqubits - 1, 2):  \n",
    "        qml.CNOT(wires=[i, i + 1])"
   ]
  },
  {
   "cell_type": "code",
   "execution_count": null,
   "metadata": {
    "id": "AoUoGHoFV8rI"
   },
   "outputs": [],
   "source": [
    "dev = qml.device(\"default.qubit\", wires=n_qubits)\n",
    "@qml.qnode(dev, interface=\"torch\")\n",
    "def quantum_net(q_input_features, q_weights_flat):\n",
    "\n",
    "    q_weights = q_weights_flat.reshape(q_depth, n_qubits)\n",
    "\n",
    "    H_layer(n_qubits)\n",
    "\n",
    "    RY_layer(q_input_features)\n",
    "\n",
    "    for k in range(q_depth):\n",
    "        entangling_layer(n_qubits)\n",
    "        RY_layer(q_weights[k])\n",
    "\n",
    "    exp_vals = [qml.expval(qml.PauliZ(position)) for position in range(n_qubits)]\n",
    "    return tuple(exp_vals)\n",
    "    \n",
    "class DressedQuantumNet(nn.Module):\n",
    "\n",
    "    def __init__(self):\n",
    "        super().__init__()\n",
    "        self.pre_net = nn.Linear(128, n_qubits)\n",
    "        self.q_params = nn.Parameter(q_delta * torch.randn(q_depth * n_qubits))\n",
    "        self.post_net = nn.Linear(n_qubits, 5)\n",
    "\n",
    "    def forward(self, input_features):\n",
    "        pre_out = self.pre_net(input_features)\n",
    "        q_in = torch.tanh(pre_out) * np.pi / 2.0\n",
    "\n",
    "        q_out = torch.Tensor(0, n_qubits)\n",
    "        q_out = q_out.to(device)\n",
    "        for elem in q_in:\n",
    "            q_out_elem = quantum_net(elem, self.q_params).float().unsqueeze(0)\n",
    "            q_out = torch.cat((q_out, q_out_elem))\n",
    "\n",
    "        return self.post_net(q_out)"
   ]
  },
  {
   "cell_type": "code",
   "execution_count": null,
   "metadata": {
    "colab": {
     "base_uri": "https://localhost:8080/",
     "height": 234
    },
    "id": "Oe15V30yVwln",
    "outputId": "4fea8d1c-c4e2-43e4-c4f2-f13c3dae583c"
   },
   "outputs": [],
   "source": [
    "model_hybrid = copy.deepcopy(torch.nn.Sequential(*(list(random_model.children())[:-1])))\n",
    "for param in model_hybrid.parameters():\n",
    "    param.requires_grad = False\n",
    "\n",
    "model_hybrid.fc = DressedQuantumNet()\n",
    "model_hybrid = model_hybrid.to(device)"
   ]
  }
 ],
 "metadata": {
  "colab": {
   "collapsed_sections": [],
   "name": "Noise [5-ary] pretrain final last layer 5x5.ipynb",
   "provenance": []
  },
  "kernelspec": {
   "display_name": "Python 3 (ipykernel)",
   "language": "python",
   "name": "python3"
  },
  "language_info": {
   "codemirror_mode": {
    "name": "ipython",
    "version": 3
   },
   "file_extension": ".py",
   "mimetype": "text/x-python",
   "name": "python",
   "nbconvert_exporter": "python",
   "pygments_lexer": "ipython3",
   "version": "3.8.0"
  }
 },
 "nbformat": 4,
 "nbformat_minor": 4
}
